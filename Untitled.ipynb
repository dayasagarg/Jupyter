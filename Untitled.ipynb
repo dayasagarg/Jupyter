{
 "cells": [
  {
   "cell_type": "code",
   "execution_count": 3,
   "id": "1c00c4f7",
   "metadata": {},
   "outputs": [],
   "source": [
    "import pandas as pd\n",
    "\n"
   ]
  },
  {
   "cell_type": "code",
   "execution_count": 5,
   "id": "d4f3d97a",
   "metadata": {},
   "outputs": [],
   "source": [
    "csv = pd.read_csv(r\"C:\\Users\\lendi\\OneDrive\\Desktop\\New folder\\notifications list.csv\")"
   ]
  },
  {
   "cell_type": "code",
   "execution_count": 11,
   "id": "42bdefc5",
   "metadata": {},
   "outputs": [
    {
     "data": {
      "text/html": [
       "<div>\n",
       "<style scoped>\n",
       "    .dataframe tbody tr th:only-of-type {\n",
       "        vertical-align: middle;\n",
       "    }\n",
       "\n",
       "    .dataframe tbody tr th {\n",
       "        vertical-align: top;\n",
       "    }\n",
       "\n",
       "    .dataframe thead th {\n",
       "        text-align: right;\n",
       "    }\n",
       "</style>\n",
       "<table border=\"1\" class=\"dataframe\">\n",
       "  <thead>\n",
       "    <tr style=\"text-align: right;\">\n",
       "      <th></th>\n",
       "      <th>id</th>\n",
       "      <th>title</th>\n",
       "      <th>content</th>\n",
       "      <th>createdAt</th>\n",
       "    </tr>\n",
       "  </thead>\n",
       "  <tbody>\n",
       "    <tr>\n",
       "      <th>0</th>\n",
       "      <td>19332527</td>\n",
       "      <td>MESSAGE DROPPED AT YOUR REGISTERED EMAIL AND M...</td>\n",
       "      <td>Greeting, We tried to connect with you for you...</td>\n",
       "      <td>2023-08-11 10:22:20.027+00</td>\n",
       "    </tr>\n",
       "    <tr>\n",
       "      <th>1</th>\n",
       "      <td>19332525</td>\n",
       "      <td>MESSAGE DROPPED AT YOUR REGISTERED EMAIL AND M...</td>\n",
       "      <td>Greeting, We tried to connect with you for you...</td>\n",
       "      <td>2023-08-11 10:22:18.166+00</td>\n",
       "    </tr>\n",
       "    <tr>\n",
       "      <th>2</th>\n",
       "      <td>19332523</td>\n",
       "      <td>🤝 Loan disbursed</td>\n",
       "      <td>Your loan has been disbursed to your bank acco...</td>\n",
       "      <td>2023-08-11 10:22:04.284+00</td>\n",
       "    </tr>\n",
       "    <tr>\n",
       "      <th>3</th>\n",
       "      <td>19332522</td>\n",
       "      <td>REGISTERED NUMBER BUSY</td>\n",
       "      <td>Greetings, We tried to connect with you but yo...</td>\n",
       "      <td>2023-08-11 10:22:01.545+00</td>\n",
       "    </tr>\n",
       "    <tr>\n",
       "      <th>4</th>\n",
       "      <td>19332521</td>\n",
       "      <td>REGISTERED NUMBER BUSY</td>\n",
       "      <td>Greetings, We tried to connect with you but yo...</td>\n",
       "      <td>2023-08-11 10:21:59.516+00</td>\n",
       "    </tr>\n",
       "    <tr>\n",
       "      <th>...</th>\n",
       "      <td>...</td>\n",
       "      <td>...</td>\n",
       "      <td>...</td>\n",
       "      <td>...</td>\n",
       "    </tr>\n",
       "    <tr>\n",
       "      <th>499995</th>\n",
       "      <td>17579331</td>\n",
       "      <td>REGISTERED NUMBER BUSY</td>\n",
       "      <td>Greetings, We tried to connect with you but yo...</td>\n",
       "      <td>2023-07-18 11:25:28.503+00</td>\n",
       "    </tr>\n",
       "    <tr>\n",
       "      <th>499996</th>\n",
       "      <td>17579330</td>\n",
       "      <td>Lenditt chat support</td>\n",
       "      <td>Approval amount is dependent upon your loan ap...</td>\n",
       "      <td>2023-07-18 11:25:26.706+00</td>\n",
       "    </tr>\n",
       "    <tr>\n",
       "      <th>499997</th>\n",
       "      <td>17579325</td>\n",
       "      <td>Sorry, Profile image is not verified 🤞</td>\n",
       "      <td>Dear Customer, your selfie photo is not proper...</td>\n",
       "      <td>2023-07-18 11:25:03.988+00</td>\n",
       "    </tr>\n",
       "    <tr>\n",
       "      <th>499998</th>\n",
       "      <td>17579323</td>\n",
       "      <td>REGISTERED NUMBER BUSY</td>\n",
       "      <td>Greetings, We tried to connect with you but yo...</td>\n",
       "      <td>2023-07-18 11:25:01.335+00</td>\n",
       "    </tr>\n",
       "    <tr>\n",
       "      <th>499999</th>\n",
       "      <td>17579322</td>\n",
       "      <td>REGISTERED NUMBER BUSY</td>\n",
       "      <td>Greetings, We tried to connect with you but yo...</td>\n",
       "      <td>2023-07-18 11:25:00.609+00</td>\n",
       "    </tr>\n",
       "  </tbody>\n",
       "</table>\n",
       "<p>500000 rows × 4 columns</p>\n",
       "</div>"
      ],
      "text/plain": [
       "              id                                              title  \\\n",
       "0       19332527  MESSAGE DROPPED AT YOUR REGISTERED EMAIL AND M...   \n",
       "1       19332525  MESSAGE DROPPED AT YOUR REGISTERED EMAIL AND M...   \n",
       "2       19332523                                   🤝 Loan disbursed   \n",
       "3       19332522                             REGISTERED NUMBER BUSY   \n",
       "4       19332521                             REGISTERED NUMBER BUSY   \n",
       "...          ...                                                ...   \n",
       "499995  17579331                             REGISTERED NUMBER BUSY   \n",
       "499996  17579330                               Lenditt chat support   \n",
       "499997  17579325             Sorry, Profile image is not verified 🤞   \n",
       "499998  17579323                             REGISTERED NUMBER BUSY   \n",
       "499999  17579322                             REGISTERED NUMBER BUSY   \n",
       "\n",
       "                                                  content  \\\n",
       "0       Greeting, We tried to connect with you for you...   \n",
       "1       Greeting, We tried to connect with you for you...   \n",
       "2       Your loan has been disbursed to your bank acco...   \n",
       "3       Greetings, We tried to connect with you but yo...   \n",
       "4       Greetings, We tried to connect with you but yo...   \n",
       "...                                                   ...   \n",
       "499995  Greetings, We tried to connect with you but yo...   \n",
       "499996  Approval amount is dependent upon your loan ap...   \n",
       "499997  Dear Customer, your selfie photo is not proper...   \n",
       "499998  Greetings, We tried to connect with you but yo...   \n",
       "499999  Greetings, We tried to connect with you but yo...   \n",
       "\n",
       "                         createdAt  \n",
       "0       2023-08-11 10:22:20.027+00  \n",
       "1       2023-08-11 10:22:18.166+00  \n",
       "2       2023-08-11 10:22:04.284+00  \n",
       "3       2023-08-11 10:22:01.545+00  \n",
       "4       2023-08-11 10:21:59.516+00  \n",
       "...                            ...  \n",
       "499995  2023-07-18 11:25:28.503+00  \n",
       "499996  2023-07-18 11:25:26.706+00  \n",
       "499997  2023-07-18 11:25:03.988+00  \n",
       "499998  2023-07-18 11:25:01.335+00  \n",
       "499999  2023-07-18 11:25:00.609+00  \n",
       "\n",
       "[500000 rows x 4 columns]"
      ]
     },
     "execution_count": 11,
     "metadata": {},
     "output_type": "execute_result"
    }
   ],
   "source": [
    "df = pd.DataFrame(csv)\n",
    "df"
   ]
  },
  {
   "cell_type": "code",
   "execution_count": 24,
   "id": "d0972cd2",
   "metadata": {},
   "outputs": [
    {
     "data": {
      "text/plain": [
       "0         Greeting, We tried to connect with you for you...\n",
       "1         Greeting, We tried to connect with you for you...\n",
       "2         Your loan has been disbursed to your bank acco...\n",
       "3         Greetings, We tried to connect with you but yo...\n",
       "4         Greetings, We tried to connect with you but yo...\n",
       "                                ...                        \n",
       "499995    Greetings, We tried to connect with you but yo...\n",
       "499996    Approval amount is dependent upon your loan ap...\n",
       "499997    Dear Customer, your selfie photo is not proper...\n",
       "499998    Greetings, We tried to connect with you but yo...\n",
       "499999    Greetings, We tried to connect with you but yo...\n",
       "Name: content, Length: 499728, dtype: object"
      ]
     },
     "execution_count": 24,
     "metadata": {},
     "output_type": "execute_result"
    }
   ],
   "source": [
    "df.content.dropna()\n"
   ]
  },
  {
   "cell_type": "code",
   "execution_count": null,
   "id": "68a53ab3",
   "metadata": {},
   "outputs": [],
   "source": [
    "csv[(csv.Year == 2013) & (csv.Industry_aggregation_NZSIOC == Level 3)]"
   ]
  },
  {
   "cell_type": "code",
   "execution_count": null,
   "id": "86250f2c",
   "metadata": {},
   "outputs": [],
   "source": [
    "csv[(csv.Year == 2013) & (csv.Industry_aggregation_NZSIOC == \"Level 3\")]"
   ]
  },
  {
   "cell_type": "code",
   "execution_count": null,
   "id": "60fa9973",
   "metadata": {},
   "outputs": [],
   "source": [
    "csv.plot()"
   ]
  },
  {
   "cell_type": "code",
   "execution_count": null,
   "id": "068d1020",
   "metadata": {},
   "outputs": [],
   "source": [
    "import matplotlib.pyplot as plt\n",
    "matplotlib.use('Agg')\n",
    "import sys\n",
    "plt.savefig(sys.stdout.buffer)\n",
    "sys.stdout.flush()\n"
   ]
  },
  {
   "cell_type": "code",
   "execution_count": null,
   "id": "38d008fa",
   "metadata": {},
   "outputs": [],
   "source": [
    "plt.show()"
   ]
  },
  {
   "cell_type": "code",
   "execution_count": null,
   "id": "00e9d53d",
   "metadata": {},
   "outputs": [],
   "source": [
    "csv.plot()\n",
    "plt.show()"
   ]
  },
  {
   "cell_type": "code",
   "execution_count": null,
   "id": "9312d2d7",
   "metadata": {},
   "outputs": [],
   "source": [
    "pip list"
   ]
  },
  {
   "cell_type": "raw",
   "id": "6980852e",
   "metadata": {},
   "source": [
    "conda list"
   ]
  },
  {
   "cell_type": "code",
   "execution_count": null,
   "id": "625a4356",
   "metadata": {},
   "outputs": [],
   "source": []
  },
  {
   "cell_type": "code",
   "execution_count": null,
   "id": "7be7e74b",
   "metadata": {},
   "outputs": [],
   "source": []
  }
 ],
 "metadata": {
  "kernelspec": {
   "display_name": "Python 3 (ipykernel)",
   "language": "python",
   "name": "python3"
  },
  "language_info": {
   "codemirror_mode": {
    "name": "ipython",
    "version": 3
   },
   "file_extension": ".py",
   "mimetype": "text/x-python",
   "name": "python",
   "nbconvert_exporter": "python",
   "pygments_lexer": "ipython3",
   "version": "3.11.5"
  }
 },
 "nbformat": 4,
 "nbformat_minor": 5
}
